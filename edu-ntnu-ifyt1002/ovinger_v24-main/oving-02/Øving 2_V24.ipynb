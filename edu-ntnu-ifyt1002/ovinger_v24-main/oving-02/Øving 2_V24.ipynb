{
 "cells": [
  {
   "cell_type": "markdown",
   "metadata": {},
   "source": [
    "# Øving 2"
   ]
  },
  {
   "attachments": {},
   "cell_type": "markdown",
   "metadata": {},
   "source": [
    "## Oppgave 1\n",
    "\n",
    "<center><img src=\"figurer/oving2_oppgave_stup.png\" alt=\"\" style=\"width: 250px;\"/></center>\n",
    "\n",
    "En stuper hopper fra en klippe som har et horisontalt utspring som vist i figuren ovenfor. Utspringet har bredde $d=1,75 \\text{ m}$ og befinner seg en høyde $h=9,00 \\text{ m}$ nedenfor toppen av klippen. \n",
    "\n",
    "Hvor høy horisontal hastighet $v_0$ må stuperen minst ha på toppen av klippen for å akkurat unngå utspringet?"
   ]
  },
  {
   "attachments": {},
   "cell_type": "markdown",
   "metadata": {},
   "source": [
    "## Oppgave 2\n",
    "To kanoner med munninger i samme punkt avfyres samtidig. De skyter kuler med samme startfart, men i hver sin vinkel, som illustrert i figuren under. Begge kanoner har munning på bakkenivå, samme som blinkene A og B. Den grønne kanonen skyter mer vertikalt mot blink A, mens den blå skyter mer horisontalt mot blink B. Vi ser bort i fra luftmotstand. \n",
    "\n",
    "<center><img src=\"figurer/oving2_to_ulike_startvinkler.png\" alt=\"\" style=\"width: 250px;\"/></center>\n",
    "\n",
    "Hvilke av følgende påstander er riktige?\n",
    "\n",
    "A. Den grønne kanonen treffer blink A først.\n",
    "\n",
    "B. Den blå kanonen treffer blink B først.\n",
    "\n",
    "C. Blinkene treffes samtidig.\n",
    "\n",
    "D. Den blå kula treffer blink med større fart enn den grønne.\n",
    "\n",
    "E. Kulene treffer blinkene med samme fart.\n",
    "\n"
   ]
  },
  {
   "cell_type": "markdown",
   "metadata": {},
   "source": [
    "# Oppgave 3\n",
    "En fjærkanon skyter en kule med startfart $v_0$  mot en blink som ligger i en horisontal avstand \n",
    "$x$  og vertikal avstand $y$  fra munningen, som illustrert i figuren under. \n",
    "\n",
    "<center><img src=\"figurer/oppgave_skrått_kast.png\" alt=\"\" style=\"width: 250px;\"/></center>\n",
    "\n",
    "a) Utskytingsvinkelen $\\alpha$ skal bestemmes slik at kula treffer midt i blinken. Dette kan vi gjøre ved å sette opp en trigonometrisk likning for $\\alpha$, uttrykt ved $v_0$, $x$ og $y$.\n",
    "\n",
    "Vi skal løse likninga for $\\alpha$ numerisk i Python med funksjonen ```fsolve``` fra pakken ```scipy.optimize```. Denne forutsetter at likninga som skal løses, skrives på formen $f(\\alpha)=0$, dvs. $f(\\alpha)$ er venstresiden i likninga når alle ledd er flyttet over slik at høyresiden er null.\n",
    "\n",
    "Dersom vi velger positiv $y$-retning **oppover** (slik at $y<0$ på bakkenivå), bestem funksjonen $f(\\alpha)$ for å kunne løse likninga ved hjelp av ```fsolve```.\n",
    "\n",
    "A. $f(\\alpha)=y+\\frac{1}{2}\\frac{gx^2}{v_0^2 \\cos^2 \\alpha}$\n",
    "\n",
    "B. $f(\\alpha)=y+\\frac{1}{2}\\frac{gx^2}{v_0^2 \\cos^2 \\alpha}-x \\tan \\alpha$\n",
    "\n",
    "C. $f(\\alpha)=y-\\frac{1}{2}\\frac{gx^2}{v_0^2 \\cos^2 \\alpha}+x \\tan \\alpha$\n",
    "\n",
    "D. $f(\\alpha)=-y+\\frac{1}{2}\\frac{gx^2}{v_0^2 \\cos^2 \\alpha}-x \\tan \\alpha$\n",
    "\n",
    "E. $f(\\alpha)=-y+\\frac{1}{2}\\frac{gx^2}{v_0^2 \\cos^2 \\alpha}$\n",
    "\n",
    "b) Hva må utskytingsvinkelen $\\alpha$ være for at kula skal treffe midt i blinken dersom startfarten $v_0 = 4,0 \\text{ m/s}$, $x = 1,5 \\text{ m}$ og blinken ligger en vertikal avstand $0,40 \\text{ m}$ under utskytingspunktet? NB! Pass på valget av positiv vertikalretning! Det kan finnes flere gyldige vinkler. Bakest i øvinga finnes eksempelkode som viser et eksempel på bruken av ```fsolve```."
   ]
  },
  {
   "attachments": {},
   "cell_type": "markdown",
   "metadata": {},
   "source": [
    "## Oppgave 4\n",
    "\n",
    "a) En bil starter med null startfart og kjører med jevnt økende banefart i en sirkelformet rundkjøring. En passasjer i bilen bruker akselerometrene i mobiltelefonen til å måle baneakselerasjonen $a_{\\parallel}$ og sentripetalakselerasjonen $a_{\\perp}$ til bilen som funksjon av tiden. \n",
    "\n",
    "Hvilken av grafene under viser $a_{\\parallel}(t)$ og $a_{\\perp}(t)$ for bilen?\n",
    "\n",
    "<center><img src=\"figurer/oving2_oppgave_sirkelbevegelse_akselerasjon.png\" alt=\"\" style=\"width: 600px;\"/></center>\n",
    "\n",
    "b) Hvor stor er baneakselerasjonen $a_{\\parallel}$, sentripetalakselerasjonen $a_{\\perp}$ og den totale akselerasjonen $a=|\\vec{a}|=|\\vec{a}_{\\parallel}+\\vec{a}_{\\perp}|$ idet banefarten er $60 \\textrm{ km/h}$ dersom sirkelradien er $60 \\textrm{ m}$ og bilens banefart øker jevnt fra null til $60 \\textrm{ km/h}$ i løpet av $6,0 \\textrm{ s}$? "
   ]
  },
  {
   "cell_type": "markdown",
   "metadata": {},
   "source": [
    "## Oppgave 5\n",
    "En kasse med masse $m$ henger i to identiske tau som danner en vinkel $\\theta$ med horisontalplanet, som vist på figuren under. \n",
    "\n",
    "<center><img src=\"figurer/oppgave_skilt_statikk.png\" alt=\"\" style=\"width: 400px;\"/></center>\n",
    "\n",
    "a) Vinkelen $\\theta$ kan justeres ved å gjøre tauene kortere/lengre, dvs. strammere/slakkere. Finn snordraget som funksjon av vinkelen $\\theta$. \n",
    "\n",
    "b) Hva skjer med snordraget når $\\theta \\rightarrow 0$?\n",
    "\n",
    "c) Bestem draget i hvert tau dersom $m=50 \\textrm{ kg}$ og $\\theta=30^{\\circ}$."
   ]
  },
  {
   "attachments": {},
   "cell_type": "markdown",
   "metadata": {},
   "source": [
    "## Eksempelkode: Løse likninger i Python\n",
    "\n",
    "Funksjonen fsolve fra Python-pakken scipy.optimize løser likninger ved å finne nullpunkter til en funksjon. Likninga må skrives som $f(x)=0$, der venstresiden i likninga utgjør $f(x)$. Ettersom fsolve bruker Newtons metode, må vi oppgi et startpunkt som 'gjetning' på hvor nullpunktet er. Dersom funksjonen har flere nullpunkter, må vi angi forskjellige startpunkter i nærheten av de ulike nullpunktene for å beregne disse."
   ]
  },
  {
   "cell_type": "code",
   "execution_count": 5,
   "metadata": {},
   "outputs": [
    {
     "data": {
      "image/png": "[encoded data removed]",
      "text/plain": [
       "<Figure size 432x288 with 1 Axes>"
      ]
     },
     "metadata": {
      "needs_background": "light"
     },
     "output_type": "display_data"
    }
   ],
   "source": [
    "#Importerer nødvendige pakker\n",
    "from scipy.optimize import fsolve\n",
    "import numpy as np\n",
    "import matplotlib.pyplot as plt\n",
    "\n",
    "#Definerer funksjonen som angir venstresiden i likninga f(x)=0 \n",
    "#som skal løses; her 5cos(x)+x = 0\n",
    "def f(x):\n",
    "    return 5*np.cos(x) + x\n",
    "\n",
    "#Tegner funksjonen for å få et bilde av løsningene:\n",
    "t=np.linspace(-5,5)\n",
    "plt.axis([-5,5,-10,10])\n",
    "plt.grid()\n",
    "plt.axhline(color='black', lw=0.5)\n",
    "plt.plot(t,f(t))\n",
    "plt.show()\n",
    "\n"
   ]
  },
  {
   "cell_type": "code",
   "execution_count": 6,
   "metadata": {},
   "outputs": [
    {
     "name": "stdout",
     "output_type": "stream",
     "text": [
      "Løsning i nærheten av x=-1:  -1.306440008369511\n",
      "Løsning i nærheten av x=2:  1.977383029328841\n"
     ]
    }
   ],
   "source": [
    "#Ser løsninger i nærheten av x=-1; x=2\n",
    "start = -1\n",
    "sol = fsolve(f, start)\n",
    "print(\"Løsning i nærheten av x=-1: \",sol[0])\n",
    "\n",
    "start = 2\n",
    "sol = fsolve(f, start)\n",
    "print(\"Løsning i nærheten av x=2: \",sol[0])"
   ]
  }
 ],
 "metadata": {
  "kernelspec": {
   "display_name": "Python 3",
   "language": "python",
   "name": "python3"
  },
  "language_info": {
   "codemirror_mode": {
    "name": "ipython",
    "version": 3
   },
   "file_extension": ".py",
   "mimetype": "text/x-python",
   "name": "python",
   "nbconvert_exporter": "python",
   "pygments_lexer": "ipython3",
   "version": "3.8.5"
  },
  "vscode": {
   "interpreter": {
    "hash": "551ea7ae10b114133e2fbac23ef1e8e3e30b0e580eb9fe1d9fc046518af6d1fa"
   }
  }
 },
 "nbformat": 4,
 "nbformat_minor": 2
}
