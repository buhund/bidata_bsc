{
 "cells": [
  {
   "attachments": {},
   "cell_type": "markdown",
   "metadata": {},
   "source": [
    "# Øving 3\n",
    "## Oppgave 1\n",
    "En person skal måle den vertikale akselerasjonen til en heis ved å stå på en elektronisk badevekt inne i heisen. Heisen starter i ro i 1. etasje ved $t=0$, og beveger seg så direkte opp til 2. etasje der den stanser. Grafen under viser den målte krafta mot badevekta som funksjon av tid.\n",
    "\n",
    "<center><img src=\"figurer/oppgave_heis_badevekt.png\" alt=\"\" style=\"width: 400px;\"/></center>\n",
    "\n",
    "\n",
    "Ved hvilket av tidspunktene $[t_1,t_5]$ er absoluttverdien til heisens fart maksimal?\n",
    "\n",
    "A. $t_1$\n",
    "\n",
    "B. $t_2$\n",
    "\n",
    "C. $t_3$\n",
    "\n",
    "D. $t_4$\n",
    "\n",
    "E. $t_5$\n"
   ]
  },
  {
   "attachments": {},
   "cell_type": "markdown",
   "metadata": {},
   "source": [
    "## Oppgave 2\n",
    "<center><img src=\"figurer/oppgave_kloss_skraaplan_friksjonstall.png\" alt=\"\" style=\"width: 400px;\"/></center>\n",
    "\n",
    "I et enkelt labforsøk skal vi bestemme hvilefriksjonstallet $\\mu_s$ og glidefriksjonstallet $\\mu_k$ for kontaktflaten mellom en kloss og et skråplan.\n",
    "\n",
    "a) Klossen legges i ro på skrålanet, og skråvinkelen $\\theta$ økes forsiktig til en kritisk verdi $\\theta_0$ der klossen akkurat begynner å gli. Hva blir hvilefriksjonstallet $\\mu_s$ uttrykt ved $\\theta_0$?\n",
    "\n",
    "b) Skråplanvinkelen økes til en verdi $\\theta>\\theta_0$, slik at klossen kan gli nedover skråplanet med konstant akselerasjon. Når klossen starter fra ro måler vi at den sklir en lengde $s$ målt langs skråplanet i løpet av tiden $t$. Hva blir glidefriksjonstallet $\\mu_k$, uttrykt ved $s$, $t$, $g$ og $\\theta$?"
   ]
  },
  {
   "attachments": {},
   "cell_type": "markdown",
   "metadata": {},
   "source": [
    "## Oppgave 3\n",
    "En vogn i en berg-og-dalbane starter i en viss høyde $h$ over det laveste punktet A i en sirkulær loop med radius $R$. To andre punkter i loopen er markerte: B er midtveis oppe, og C er det høyeste punktet. Vogna har tilstrekkelig fart til at den fullfører en hel loop uten å miste kontakten med underlaget (uten at det er spesifisert hvorvidt den kommer rundt loopen med \"god\" eller \"liten\" margin). Se figuren under.\n",
    "\n",
    "<center><img src=\"figurer/oppgave_sirkelbevegelse_vogn_loop.png\" alt=\"\" style=\"width: 400px;\"/></center>\n",
    "\n",
    "I denne oppgaven skal vi se bort fra friksjon og luftmotstand.\n",
    "\n",
    "a) Hvilke påstander er riktige?\n",
    "\n",
    "A. I punkt A er normalkrafta på vogna like stor som vognas tyngde.\n",
    "\n",
    "B. I punkt A er normalkrafta på vogna større enn vognas tyngde.\n",
    "\n",
    "C. I punkt B er sentripetalakselerasjonen til vogna lik 0. \n",
    "\n",
    "D. I punkt B er den tangentielle akselerasjonen til vogna lik g. \n",
    "\n",
    "E. I punkt C er sentripetalakselerasjonen til vogna lik g.\n",
    "\n",
    "b) Et akselerometer i vogna måler en sentripetalakselerasjon $a_{\\perp}=3g$ i det høyste punktet, der $g$ er tyngdeakselerasjonen. Akselerometeret er kalibrert slik at det viser $a_{\\perp}=0$ når vogna står i ro.\n",
    "\n",
    " Hva er normalkrafta på vogna i C, angitt i antall ganger vognas tyngde $G$?\n",
    "\n",
    "A. $N=0$\n",
    "\n",
    "B. $N=0,5 G$ \n",
    "\n",
    "C. $N=G$ \n",
    "\n",
    "D. $N=2G$ \n",
    "  \n",
    "E. $N=3G$"
   ]
  },
  {
   "cell_type": "markdown",
   "metadata": {},
   "source": [
    "## Oppgave 4\n",
    "En bil masse masse $m=1500 \\textrm{ kg}$ kjører på horisontalt underlag med fart $v_0=80 \\textrm{ km/h}$ idet den bråbremser for en hindring en strekning $s$ foran bilen. Bilen har blokkeringsfrie bremser slik at det hele tiden virker maksimal hvilefriksjon mot dekkene. Hvilefriksjonstallet mellom dekk og underlag er $\\mu_s=0,80$. \n",
    "\n",
    "a) Hvor lang strekning $s$ trenger bilen for å stoppe, målt fra punktet der nedbremsingen startet?\n",
    "\n",
    "b) Hvor stor fart ville bilen ha truffet hindringen med, dersom den hadde kjørt i 90 km/h og $s$ er den samme som i a)?\n",
    "\n",
    "c) Ved en annen anledning kjører bilen nedover en bakke med 15 % stigning (se figur under). Hvor lang strekning trenger bilen for å stoppe fra en fart $v_0=80 \\textrm{ km/h}$ i dette tilfellet? \n",
    "\n",
    "<center><img src=\"figurer/stigningsgrad_vinkel_prosent.png\" alt=\"\" style=\"width: 400px;\"/></center>\n"
   ]
  }
 ],
 "metadata": {
  "kernelspec": {
   "display_name": "Python 3",
   "language": "python",
   "name": "python3"
  },
  "language_info": {
   "codemirror_mode": {
    "name": "ipython",
    "version": 3
   },
   "file_extension": ".py",
   "mimetype": "text/x-python",
   "name": "python",
   "nbconvert_exporter": "python",
   "pygments_lexer": "ipython3",
   "version": "3.8.5"
  },
  "vscode": {
   "interpreter": {
    "hash": "551ea7ae10b114133e2fbac23ef1e8e3e30b0e580eb9fe1d9fc046518af6d1fa"
   }
  }
 },
 "nbformat": 4,
 "nbformat_minor": 2
}
